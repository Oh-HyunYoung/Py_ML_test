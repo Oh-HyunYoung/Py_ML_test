{
  "nbformat": 4,
  "nbformat_minor": 0,
  "metadata": {
    "colab": {
      "provenance": [],
      "collapsed_sections": [],
      "toc_visible": true,
      "authorship_tag": "ABX9TyPtIoPzttJ8ZlTYC0hvoYaT",
      "include_colab_link": true
    },
    "kernelspec": {
      "name": "python3",
      "display_name": "Python 3"
    },
    "language_info": {
      "name": "python"
    }
  },
  "cells": [
    {
      "cell_type": "markdown",
      "metadata": {
        "id": "view-in-github",
        "colab_type": "text"
      },
      "source": [
        "<a href=\"https://colab.research.google.com/github/Oh-HyunYoung/Py_ML_test/blob/main/Python_for_ML_1.ipynb\" target=\"_parent\"><img src=\"https://colab.research.google.com/assets/colab-badge.svg\" alt=\"Open In Colab\"/></a>"
      ]
    },
    {
      "cell_type": "markdown",
      "source": [
        "## Day+1 \n",
        "머신러닝을 위한 파이썬 - boostcourse\n",
        "\n"
      ],
      "metadata": {
        "id": "zc0MrNplHONH"
      }
    },
    {
      "cell_type": "code",
      "execution_count": null,
      "metadata": {
        "colab": {
          "base_uri": "https://localhost:8080/"
        },
        "id": "etYd2wGcGtnN",
        "outputId": "e3d55b3c-2633-42aa-c33e-c85ce4375daa"
      },
      "outputs": [
        {
          "output_type": "stream",
          "name": "stdout",
          "text": [
            "abcde\n"
          ]
        }
      ],
      "source": [
        "# 일반 코드\n",
        "\n",
        "colors = [\"a\",\"b\",\"c\",\"d\",\"e\"]\n",
        "result = \"\"\n",
        "\n",
        "for s in colors:\n",
        "  result += s\n",
        "\n",
        "print(result)"
      ]
    },
    {
      "cell_type": "code",
      "source": [
        "# pthonic code // 일반 코드 비효율적 이러한 방식 사용하기\n",
        "\n",
        "colors = [\"red\",\"blue\",\"green\",\"yellow\"]\n",
        "result = \"\".join(colors)\n",
        "\n",
        "print(result)"
      ],
      "metadata": {
        "colab": {
          "base_uri": "https://localhost:8080/"
        },
        "id": "WLEASxQZM3I5",
        "outputId": "6c346b53-361a-44fc-a5cd-dd5be898fff4"
      },
      "execution_count": null,
      "outputs": [
        {
          "output_type": "stream",
          "name": "stdout",
          "text": [
            "redbluegreenyellow\n"
          ]
        }
      ]
    },
    {
      "cell_type": "code",
      "source": [
        "# 빈칸을 기준으로 문자열 나누기 -- 뉴스 데이터??에 사용 영어에 한 문장에 얼마의 숫자들이 쓰이는지 사용\n",
        "items = 'zero one two three'.split()\n",
        "\n",
        "print(items)\n",
        "\n",
        "# \",\"을 기준으로 문자열 나누기\n",
        "example = 'python,jquery,javascript'\n",
        "\n",
        "print(example.split(\",\"))\n",
        "\n",
        "# 리스트의 각 값을 a,b,c 변수로 unpacking\n",
        "example = 'pthon,jquery,javascript'\n",
        "\n",
        "a,b,c=example.split(\",\")\n",
        "\n",
        "# \".\"을 기준으로 문자열 나누고 unpacking // 도메인 address에 사용\n",
        "example = 'cs50.gachon.edu'\n",
        "\n",
        "subdomain, domain, tld = example.split(\".\")\n"
      ],
      "metadata": {
        "colab": {
          "base_uri": "https://localhost:8080/"
        },
        "id": "4RstMw3xOBO4",
        "outputId": "08a1a8d0-f350-4b23-9bdd-155b0cdb6cff"
      },
      "execution_count": null,
      "outputs": [
        {
          "output_type": "stream",
          "name": "stdout",
          "text": [
            "['zero', 'one', 'two', 'three']\n",
            "['python', 'jquer', 'javascript']\n"
          ]
        }
      ]
    },
    {
      "cell_type": "markdown",
      "source": [
        "# Join 함수\n",
        "- String List를 합쳐 하나의 String으로 반환할 때 사용"
      ],
      "metadata": {
        "id": "W8bXaPgvPlkg"
      }
    },
    {
      "cell_type": "code",
      "source": [
        "# for loop + append 사용하기\n",
        "result = []\n",
        "\n",
        "for i in range(10):\n",
        "  result.append(i)\n",
        "\n",
        "print(result)"
      ],
      "metadata": {
        "colab": {
          "base_uri": "https://localhost:8080/"
        },
        "id": "ANV4qaKRPtzh",
        "outputId": "6434655d-5646-4322-a6dd-39f8829e246b"
      },
      "execution_count": null,
      "outputs": [
        {
          "output_type": "stream",
          "name": "stdout",
          "text": [
            "[0, 1, 2, 3, 4, 5, 6, 7, 8, 9]\n"
          ]
        }
      ]
    },
    {
      "cell_type": "code",
      "source": [
        "# list Comprehension 사용하기\n",
        "result = [i for i in range(10)]\n",
        "print(result)\n",
        "\n",
        "result = [i for i in range(10)if i % 2 ==0]\n",
        "print(result)"
      ],
      "metadata": {
        "colab": {
          "base_uri": "https://localhost:8080/"
        },
        "id": "rwfwvH_7RcZ2",
        "outputId": "89e947dd-72dc-4347-9263-d1f251bf82a1"
      },
      "execution_count": null,
      "outputs": [
        {
          "output_type": "stream",
          "name": "stdout",
          "text": [
            "[0, 1, 2, 3, 4, 5, 6, 7, 8, 9]\n",
            "[0, 2, 4, 6, 8]\n"
          ]
        }
      ]
    },
    {
      "cell_type": "code",
      "source": [
        "# Nested For loop\n",
        "word_1 = \"Hello\"\n",
        "word_2 = \"World\"\n",
        "result = [i+j for i in word_1 for j in word_2]\n",
        "\n",
        "print(result)"
      ],
      "metadata": {
        "colab": {
          "base_uri": "https://localhost:8080/"
        },
        "id": "mIkcUv_PRs91",
        "outputId": "a224d6e0-5a3f-483b-bb4e-1ff656adf219"
      },
      "execution_count": null,
      "outputs": [
        {
          "output_type": "stream",
          "name": "stdout",
          "text": [
            "['HW', 'Ho', 'Hr', 'Hl', 'Hd', 'eW', 'eo', 'er', 'el', 'ed', 'lW', 'lo', 'lr', 'll', 'ld', 'lW', 'lo', 'lr', 'll', 'ld', 'oW', 'oo', 'or', 'ol', 'od']\n"
          ]
        }
      ]
    },
    {
      "cell_type": "code",
      "source": [
        "# Nested For loop + if문\n",
        "case_1 = [\"A\",\"B\",\"C\"]\n",
        "case_2 = [\"D\",\"E\",\"A\"]\n",
        "\n",
        "result = [i+j for i in case_1 for j in case_2]\n",
        "print(result)\n",
        "\n",
        "# if 문 추가\n",
        "result = [i+j for i in case_1 for j in case_2 if not(i==j)]\n",
        "result.sort()\n",
        "\n",
        "print(result)"
      ],
      "metadata": {
        "colab": {
          "base_uri": "https://localhost:8080/"
        },
        "id": "HRyHTmafR8wq",
        "outputId": "b1cce95b-6099-4b41-9c1b-cf40407f846f"
      },
      "execution_count": null,
      "outputs": [
        {
          "output_type": "stream",
          "name": "stdout",
          "text": [
            "['AD', 'AE', 'AA', 'BD', 'BE', 'BA', 'CD', 'CE', 'CA']\n",
            "['AD', 'AE', 'BA', 'BD', 'BE', 'CA', 'CD', 'CE']\n"
          ]
        }
      ]
    },
    {
      "cell_type": "code",
      "source": [
        "# split + list Comprehension\n",
        "words = 'The quick brown fox jumps over the lazy dog'. split()\n",
        "print(words)\n",
        "\n",
        "stuff = [[w.upper(), w.lower(), len(w)]for w in words]\n",
        "\n",
        "for i in stuff:\n",
        "  print(i)"
      ],
      "metadata": {
        "colab": {
          "base_uri": "https://localhost:8080/"
        },
        "id": "jaxo1FsNSXuZ",
        "outputId": "688c7957-5baa-46ea-9e3d-6071fced75f6"
      },
      "execution_count": null,
      "outputs": [
        {
          "output_type": "stream",
          "name": "stdout",
          "text": [
            "['The', 'quick', 'brown', 'fox', 'jumps', 'over', 'the', 'lazy', 'dog']\n",
            "['THE', 'the', 3]\n",
            "['QUICK', 'quick', 5]\n",
            "['BROWN', 'brown', 5]\n",
            "['FOX', 'fox', 3]\n",
            "['JUMPS', 'jumps', 5]\n",
            "['OVER', 'over', 4]\n",
            "['THE', 'the', 3]\n",
            "['LAZY', 'lazy', 4]\n",
            "['DOG', 'dog', 3]\n"
          ]
        }
      ]
    },
    {
      "cell_type": "code",
      "source": [
        "# for loop+zip\n",
        "alist = ['a1','a2','a3']\n",
        "blist = ['b1','b2','b3']\n",
        "\n",
        "for a,b in zip(alist, blist):\n",
        "  print(a,b)"
      ],
      "metadata": {
        "colab": {
          "base_uri": "https://localhost:8080/"
        },
        "id": "DH1n6EOIVstv",
        "outputId": "77499b2b-069d-48d8-ca70-8cb88b2723e0"
      },
      "execution_count": null,
      "outputs": [
        {
          "output_type": "stream",
          "name": "stdout",
          "text": [
            "a1 b1\n",
            "a2 b2\n",
            "a3 b3\n"
          ]
        }
      ]
    },
    {
      "cell_type": "code",
      "source": [
        "# list comprehension + zip\n",
        "a,b,c = zip((1,2,3),(10,20,30),(100,200,300))\n",
        "print(a,b,c)\n",
        "\n",
        "print([sum(x) for x in zip((1,2,3),(10,20,30),(100,200,300))])"
      ],
      "metadata": {
        "colab": {
          "base_uri": "https://localhost:8080/"
        },
        "id": "1tK3v1CFV8wI",
        "outputId": "ee3627f8-34be-48f0-a786-82152abee8ca"
      },
      "execution_count": null,
      "outputs": [
        {
          "output_type": "stream",
          "name": "stdout",
          "text": [
            "(1, 10, 100) (2, 20, 200) (3, 30, 300)\n",
            "[111, 222, 333]\n"
          ]
        }
      ]
    },
    {
      "cell_type": "code",
      "source": [
        "# enumerate - List의 element를 추출할 때 번호를 붙여서 추출\n",
        "# enumerate + zip\n",
        "alist = ['a1','a2','a3']\n",
        "blist = ['b1','b2','b3']\n",
        "\n",
        "for i, (a,b) in enumerate(zip(alist,blist)):\n",
        "  print(i,a,b)"
      ],
      "metadata": {
        "colab": {
          "base_uri": "https://localhost:8080/"
        },
        "id": "TvrTilABWRCO",
        "outputId": "2e1187ad-44e3-42b2-d8ab-9895963bd811"
      },
      "execution_count": null,
      "outputs": [
        {
          "output_type": "stream",
          "name": "stdout",
          "text": [
            "0 a1 b1\n",
            "1 a2 b2\n",
            "2 a3 b3\n"
          ]
        }
      ]
    },
    {
      "cell_type": "markdown",
      "source": [
        "# Lambda\n",
        "- 함수 이름 없이, 함수처럼 쓸 수 있는 익명함수\n",
        "- 수학의 람다 대수에서 유래함\n",
        "- python 3 부터는 권장하지 않으나 많이 쓰임"
      ],
      "metadata": {
        "id": "CtdrZx_DpBMI"
      }
    },
    {
      "cell_type": "code",
      "source": [
        "def f(x, y):\n",
        "    return x + y\n",
        "\n",
        "\n",
        "print(f(1, 4))\n",
        "\n",
        "\n",
        "f = lambda x, y: x + y\n",
        "print(f(1, 4))\n",
        "\n",
        "f = lambda x: x ** 2\n",
        "print(f(3))\n",
        "\n",
        "f = lambda x: x / 2\n",
        "print(f(3))\n",
        "\n",
        "print((lambda x: x + 1)(5))"
      ],
      "metadata": {
        "colab": {
          "base_uri": "https://localhost:8080/"
        },
        "id": "LjaflT_5ofyb",
        "outputId": "ea46ecd1-be6c-4251-f170-bcd51e87ab0e"
      },
      "execution_count": null,
      "outputs": [
        {
          "output_type": "stream",
          "name": "stdout",
          "text": [
            "5\n",
            "5\n",
            "9\n",
            "1.5\n",
            "6\n"
          ]
        }
      ]
    },
    {
      "cell_type": "markdown",
      "source": [
        "# Map function\n",
        "- Sequence 자료형 각 element에 동일한 function을 적용함 "
      ],
      "metadata": {
        "id": "Kg_emRosqjAI"
      }
    },
    {
      "cell_type": "code",
      "source": [
        "# Map\n",
        "\n",
        "def f(x, y):\n",
        "    return x + y\n",
        "f(1, 4)\n",
        "\n",
        "\n",
        "f = lambda x,y: x+y\n",
        "f(1, 4)\n",
        "\n",
        "\n",
        "ex = [1, 2, 3, 4, 5]\n",
        "f = lambda x: x ** 2\n",
        "print(list(map(f, ex)))\n",
        "\n",
        "\n",
        "ex = [1, 2, 3, 4, 5]\n",
        "f = lambda x, y: x + y\n",
        "print(list(map(f, ex, ex)))\n",
        "\n",
        "list(map(\n",
        "    lambda x: x ** 2 if x % 2 == 0 else x,\n",
        "    ex))\n",
        "\n",
        "#python 3에는 list를 꼭 붙여줘야함\n",
        "ex = [1,2,3,4,5]\n",
        "print(list(map(lambda x: x+x, ex)))\n",
        "print((map(lambda x: x+x, ex)))\n",
        "\n",
        "#list 안붙일때는 for문 사용\n",
        "f = lambda x: x ** 2\n",
        "print(map(f, ex))\n",
        "for i in map(f, ex):\n",
        "    print(i)\n",
        "\n",
        "result = map(f, ex)\n",
        "print(result)\n",
        "print(next(result))\n",
        "\n",
        "import sys\n",
        "sys.getsizeof(ex)\n",
        "sys.getsizeof((map(lambda x: x+x, ex)))\n",
        "sys.getsizeof(list(map(lambda x: x+x, ex)))\n",
        "\n",
        "# Reduce\n",
        "# map function과 달리 list에 똑같은 함수를 적용해서 통합\n",
        "from functools import reduce\n",
        "print(reduce(lambda x, y: x+y, [1, 2, 3, 4, 5]))\n",
        "\n",
        "\n",
        "def factorial(n):\n",
        "    return reduce(\n",
        "            lambda x, y: x*y, range(1, n+1))\n",
        "\n",
        "\n",
        "factorial(5)"
      ],
      "metadata": {
        "colab": {
          "base_uri": "https://localhost:8080/"
        },
        "id": "tHV2tI-8oj8c",
        "outputId": "8cddbfb7-80cf-40f7-9ac3-372afd4e9fa4"
      },
      "execution_count": null,
      "outputs": [
        {
          "output_type": "stream",
          "name": "stdout",
          "text": [
            "[1, 4, 9, 16, 25]\n",
            "[2, 4, 6, 8, 10]\n",
            "[2, 4, 6, 8, 10]\n",
            "<map object at 0x7f1faeba9410>\n",
            "<map object at 0x7f1faec3f690>\n",
            "1\n",
            "4\n",
            "9\n",
            "16\n",
            "25\n",
            "<map object at 0x7f1fb6b42090>\n",
            "1\n",
            "15\n"
          ]
        },
        {
          "output_type": "execute_result",
          "data": {
            "text/plain": [
              "120"
            ]
          },
          "metadata": {},
          "execution_count": 34
        }
      ]
    },
    {
      "cell_type": "markdown",
      "source": [
        "#Summary\n",
        "- Lambda, map, reduce는 간단한 코드로 다양한 기능을 제공\n",
        "- 그러나 코드의 직관성이 떨어져서 lambda나 reduce는 python3에서 사용을 권장하지 않음\n",
        "- Legacy library나 다양한 머신러닝 코드에서 여전히 사용중"
      ],
      "metadata": {
        "id": "qLEWI0ZssIy6"
      }
    },
    {
      "cell_type": "markdown",
      "source": [
        "# Asterisk\n",
        "- 흔히 알고있는 *를 의미함\n",
        "- 단순 곱셈, 제곱연산, 가변 인자 활용 등 다양하게 사용됨 "
      ],
      "metadata": {
        "id": "QycyfevgsoNj"
      }
    },
    {
      "cell_type": "code",
      "source": [
        "def asterisk_test(a, *args):\n",
        "    print(a, args)\n",
        "    print(type(args))\n",
        "\n",
        "asterisk_test(1,2,3,4,5,6)\n",
        "\n",
        "\n",
        "def asterisk_test(a, **kargs):\n",
        "    print(a, kargs)\n",
        "    print(type(kargs))\n",
        "\n",
        "asterisk_test(1, b=2, c=3, d=4, e=5, f=6)\n",
        "\n",
        "\n",
        "def asterisk_test(a, *args):\n",
        "    print(a, args[0])\n",
        "    print(type(args))\n",
        "\n",
        "\n",
        "asterisk_test(1, (2, 3, 4, 5, 6))\n",
        "\n",
        "\n",
        "def asterisk_test(a, args):\n",
        "    print(a, *args)\n",
        "    print(type(args))\n",
        "\n",
        "asterisk_test(1, (2,3,4,5,6))\n"
      ],
      "metadata": {
        "colab": {
          "base_uri": "https://localhost:8080/"
        },
        "id": "jGw7wiwxwxx0",
        "outputId": "9afed2ab-8cd2-409a-f078-b8b25a383e7c"
      },
      "execution_count": null,
      "outputs": [
        {
          "output_type": "stream",
          "name": "stdout",
          "text": [
            "1 (2, 3, 4, 5, 6)\n",
            "<class 'tuple'>\n",
            "1 {'b': 2, 'c': 3, 'd': 4, 'e': 5, 'f': 6}\n",
            "<class 'dict'>\n",
            "1 (2, 3, 4, 5, 6)\n",
            "<class 'tuple'>\n",
            "1 2 3 4 5 6\n",
            "<class 'tuple'>\n"
          ]
        }
      ]
    },
    {
      "cell_type": "markdown",
      "source": [
        "# Asterisk - unpacking a container\n",
        "- tuple, dict 등 자료형에 들어가있는 것을 unpacking\n",
        "- 함수의 입력값, zip 등에 유용하게 사용가능"
      ],
      "metadata": {
        "id": "IFjNLv60w7n3"
      }
    },
    {
      "cell_type": "code",
      "source": [
        "a, b, c = ([1, 2], [3, 4], [5, 6])\n",
        "print(a, b, c)\n",
        "\n",
        "data = ([1, 2], [3, 4], [5, 6])\n",
        "print(*data)\n",
        "\n",
        "\n",
        "for data in zip(*([1, 2], [3, 4], [5, 6])):\n",
        "    print(sum(data))\n",
        "\n",
        "\n",
        "def asterisk_test(a, b, c, d, e=0):\n",
        "    print(a, b, c, d, e)\n",
        "\n",
        "\n",
        "data = {\"d\":1 , \"c\":2, \"b\":3, \"e\":56}\n",
        "asterisk_test(10, **data)"
      ],
      "metadata": {
        "colab": {
          "base_uri": "https://localhost:8080/"
        },
        "id": "rb5aZLuiskbi",
        "outputId": "bebf19ee-dc91-4068-d003-3f5c506488b5"
      },
      "execution_count": null,
      "outputs": [
        {
          "output_type": "stream",
          "name": "stdout",
          "text": [
            "[1, 2] [3, 4] [5, 6]\n",
            "[1, 2] [3, 4] [5, 6]\n",
            "9\n",
            "12\n",
            "10 3 2 1 56\n"
          ]
        }
      ]
    },
    {
      "cell_type": "markdown",
      "source": [
        "# Collections\n",
        "- List, Tuple, Dict에 대한 Python Built-in 확장 잘 구조(모듈)\n",
        "- 편의성, 실행 효율 등을 사용자에게 제공함\n",
        "\n",
        "#deque\n",
        "- Stack과 Queue를 지원하는 모듈\n",
        "- List에 비해 효율적인 자료 저장 방식을 지원함\n",
        "- 효율적 메모리 구조로 처리 속도 향상"
      ],
      "metadata": {
        "id": "Je09XWfBxzoL"
      }
    },
    {
      "cell_type": "code",
      "source": [
        "from collections import deque\n",
        "\n",
        "deque_list = deque()\n",
        "for i in range(5):\n",
        "    deque_list.append(i)\n",
        "print(deque_list)\n",
        "\n",
        "deque_list.appendleft(10)\n",
        "print(deque_list)\n",
        "\n",
        "deque_list.rotate(2)\n",
        "print(deque_list)\n",
        "deque_list.rotate(2)\n",
        "print(deque_list)\n",
        "\n",
        "print(deque_list)\n",
        "print(deque(reversed(deque_list)))\n",
        "\n",
        "deque_list.extend([5, 6, 7])\n",
        "print(deque_list)\n",
        "\n",
        "deque_list.extendleft([5, 6, 7])\n",
        "print(deque_list)"
      ],
      "metadata": {
        "colab": {
          "base_uri": "https://localhost:8080/"
        },
        "id": "tkwfJQJhxvN5",
        "outputId": "11b3b280-6933-4c04-e6f6-1db64b6f8aaf"
      },
      "execution_count": null,
      "outputs": [
        {
          "output_type": "stream",
          "name": "stdout",
          "text": [
            "deque([0, 1, 2, 3, 4])\n",
            "deque([10, 0, 1, 2, 3, 4])\n",
            "deque([3, 4, 10, 0, 1, 2])\n",
            "deque([1, 2, 3, 4, 10, 0])\n",
            "deque([1, 2, 3, 4, 10, 0])\n",
            "deque([0, 10, 4, 3, 2, 1])\n",
            "deque([1, 2, 3, 4, 10, 0, 5, 6, 7])\n",
            "deque([7, 6, 5, 1, 2, 3, 4, 10, 0, 5, 6, 7])\n"
          ]
        }
      ]
    },
    {
      "cell_type": "markdown",
      "source": [
        "# OrderedDict\n",
        "- Dict와 달리, 데이터를 입력한 순서대로 dict를 반환함\n",
        "- Dict type의 값을, value 또는 key 값으로 정렬할 때 사용가능"
      ],
      "metadata": {
        "id": "3DEv4ydJyikm"
      }
    },
    {
      "cell_type": "code",
      "source": [
        "from collections import OrderedDict\n",
        "\n",
        "d = {}\n",
        "d['x'] = 100\n",
        "d['y'] = 200\n",
        "d['z'] = 300\n",
        "d['l'] = 500\n",
        "\n",
        "for k, v in d.items():\n",
        "    print(k, v)\n",
        "\n",
        "\n",
        "d = OrderedDict()\n",
        "d['x'] = 100\n",
        "d['y'] = 200\n",
        "d['z'] = 300\n",
        "d['l'] = 500\n",
        "\n",
        "for k, v in d.items():\n",
        "    print(k, v)\n",
        "\n",
        "for k, v in OrderedDict(sorted(d.items(), key=lambda t: t[0])).items():\n",
        "    print(k, v)\n",
        "\n",
        "for k, v in OrderedDict(sorted(d.items(),\n",
        "                        reverse=True, key=lambda t: t[1])).items():\n",
        "    print(k, v)"
      ],
      "metadata": {
        "colab": {
          "base_uri": "https://localhost:8080/"
        },
        "id": "Fp2JChlJyhyj",
        "outputId": "d88dedad-acbe-4926-a260-3b143ef5a829"
      },
      "execution_count": null,
      "outputs": [
        {
          "output_type": "stream",
          "name": "stdout",
          "text": [
            "x 100\n",
            "y 200\n",
            "z 300\n",
            "l 500\n",
            "x 100\n",
            "y 200\n",
            "z 300\n",
            "l 500\n",
            "l 500\n",
            "x 100\n",
            "y 200\n",
            "z 300\n",
            "l 500\n",
            "z 300\n",
            "y 200\n",
            "x 100\n"
          ]
        }
      ]
    },
    {
      "cell_type": "markdown",
      "source": [
        "# defaultdict\n",
        "- Dict type의 값에 기본값을 지정, 신규값 생성시 사용하는 방법"
      ],
      "metadata": {
        "id": "i4ogj-4Dy9_R"
      }
    },
    {
      "cell_type": "code",
      "source": [
        "from collections import defaultdict\n",
        "from collections import OrderedDict\n",
        "\n",
        "d = dict()\n",
        "#print(d[\"first\"]) ## 오류 발생\n",
        "\n",
        "# Reference from\n",
        "# https://dongyeopblog.wordpress.com/2016/04/08/python-defaultdict-%EC%82%AC%EC%9A%A9%ED%95%98%EA%B8%B0/\n",
        "\n",
        "d = defaultdict(object)     # Default dictionary를 생성\n",
        "d = defaultdict(lambda: 1)  # Default 값을 0으로 설정합\n",
        "print(d[\"first\"])\n",
        "\n",
        "\n",
        "text = \"\"\"A press release is the quickest and easiest way to get free publicity. If well written, a press release can result in multiple published articles about your firm and its products. And that can mean new prospects contacting you asking you to sell to them. Talk about low-hanging fruit!\n",
        "What's more, press releases are cost effective. If the release results in an article that (for instance) appears to recommend your firm or your product, that article is more likely to drive prospects to contact you than a comparable paid advertisement.\n",
        "However, most press releases never accomplish that. Most press releases are just spray and pray. Nobody reads them, least of all the reporters and editors for whom they're intended. Worst case, a badly-written press release simply makes your firm look clueless and stupid.\n",
        "For example, a while back I received a press release containing the following sentence: \"Release 6.0 doubles the level of functionality available, providing organizations of all sizes with a fast-to-deploy, highly robust, and easy-to-use solution to better acquire, retain, and serve customers.\"\n",
        "Translation: \"The new release does more stuff.\" Why the extra verbiage? As I explained in the post \"Why Marketers Speak Biz Blab\", the BS words are simply a way to try to make something unimportant seem important. And, let's face it, a 6.0 release of a product probably isn't all that important.\n",
        "As a reporter, my immediate response to that press release was that it's not important because it expended an entire sentence saying absolutely nothing. And I assumed (probably rightly) that the company's marketing team was a bunch of idiots.\"\"\".lower().split()\n",
        "\n",
        "print(text)\n",
        "\n",
        "word_count = {}\n",
        "for word in text:\n",
        "    if word in word_count.keys():\n",
        "        word_count[word] += 1\n",
        "    else:\n",
        "        word_count[word] = 0\n",
        "print(word_count)\n",
        "\n",
        "word_count = defaultdict(object)     # Default dictionary를 생성\n",
        "word_count = defaultdict(lambda: 0)  # Default 값을 0으로 설정합\n",
        "for word in text:\n",
        "    word_count[word] += 1\n",
        "for i, v in OrderedDict(sorted(\n",
        "        word_count.items(), key=lambda t: t[1], reverse=True)).items():\n",
        "    print(i, v)"
      ],
      "metadata": {
        "colab": {
          "base_uri": "https://localhost:8080/"
        },
        "id": "3YSlrkIHzBtD",
        "outputId": "0762b2e9-e289-4d06-94a7-6e8b87d2f172"
      },
      "execution_count": null,
      "outputs": [
        {
          "output_type": "stream",
          "name": "stdout",
          "text": [
            "1\n",
            "['a', 'press', 'release', 'is', 'the', 'quickest', 'and', 'easiest', 'way', 'to', 'get', 'free', 'publicity.', 'if', 'well', 'written,', 'a', 'press', 'release', 'can', 'result', 'in', 'multiple', 'published', 'articles', 'about', 'your', 'firm', 'and', 'its', 'products.', 'and', 'that', 'can', 'mean', 'new', 'prospects', 'contacting', 'you', 'asking', 'you', 'to', 'sell', 'to', 'them.', 'talk', 'about', 'low-hanging', 'fruit!', \"what's\", 'more,', 'press', 'releases', 'are', 'cost', 'effective.', 'if', 'the', 'release', 'results', 'in', 'an', 'article', 'that', '(for', 'instance)', 'appears', 'to', 'recommend', 'your', 'firm', 'or', 'your', 'product,', 'that', 'article', 'is', 'more', 'likely', 'to', 'drive', 'prospects', 'to', 'contact', 'you', 'than', 'a', 'comparable', 'paid', 'advertisement.', 'however,', 'most', 'press', 'releases', 'never', 'accomplish', 'that.', 'most', 'press', 'releases', 'are', 'just', 'spray', 'and', 'pray.', 'nobody', 'reads', 'them,', 'least', 'of', 'all', 'the', 'reporters', 'and', 'editors', 'for', 'whom', \"they're\", 'intended.', 'worst', 'case,', 'a', 'badly-written', 'press', 'release', 'simply', 'makes', 'your', 'firm', 'look', 'clueless', 'and', 'stupid.', 'for', 'example,', 'a', 'while', 'back', 'i', 'received', 'a', 'press', 'release', 'containing', 'the', 'following', 'sentence:', '\"release', '6.0', 'doubles', 'the', 'level', 'of', 'functionality', 'available,', 'providing', 'organizations', 'of', 'all', 'sizes', 'with', 'a', 'fast-to-deploy,', 'highly', 'robust,', 'and', 'easy-to-use', 'solution', 'to', 'better', 'acquire,', 'retain,', 'and', 'serve', 'customers.\"', 'translation:', '\"the', 'new', 'release', 'does', 'more', 'stuff.\"', 'why', 'the', 'extra', 'verbiage?', 'as', 'i', 'explained', 'in', 'the', 'post', '\"why', 'marketers', 'speak', 'biz', 'blab\",', 'the', 'bs', 'words', 'are', 'simply', 'a', 'way', 'to', 'try', 'to', 'make', 'something', 'unimportant', 'seem', 'important.', 'and,', \"let's\", 'face', 'it,', 'a', '6.0', 'release', 'of', 'a', 'product', 'probably', \"isn't\", 'all', 'that', 'important.', 'as', 'a', 'reporter,', 'my', 'immediate', 'response', 'to', 'that', 'press', 'release', 'was', 'that', \"it's\", 'not', 'important', 'because', 'it', 'expended', 'an', 'entire', 'sentence', 'saying', 'absolutely', 'nothing.', 'and', 'i', 'assumed', '(probably', 'rightly)', 'that', 'the', \"company's\", 'marketing', 'team', 'was', 'a', 'bunch', 'of', 'idiots.']\n",
            "{'a': 11, 'press': 7, 'release': 7, 'is': 1, 'the': 8, 'quickest': 0, 'and': 8, 'easiest': 0, 'way': 1, 'to': 9, 'get': 0, 'free': 0, 'publicity.': 0, 'if': 1, 'well': 0, 'written,': 0, 'can': 1, 'result': 0, 'in': 2, 'multiple': 0, 'published': 0, 'articles': 0, 'about': 1, 'your': 3, 'firm': 2, 'its': 0, 'products.': 0, 'that': 6, 'mean': 0, 'new': 1, 'prospects': 1, 'contacting': 0, 'you': 2, 'asking': 0, 'sell': 0, 'them.': 0, 'talk': 0, 'low-hanging': 0, 'fruit!': 0, \"what's\": 0, 'more,': 0, 'releases': 2, 'are': 2, 'cost': 0, 'effective.': 0, 'results': 0, 'an': 1, 'article': 1, '(for': 0, 'instance)': 0, 'appears': 0, 'recommend': 0, 'or': 0, 'product,': 0, 'more': 1, 'likely': 0, 'drive': 0, 'contact': 0, 'than': 0, 'comparable': 0, 'paid': 0, 'advertisement.': 0, 'however,': 0, 'most': 1, 'never': 0, 'accomplish': 0, 'that.': 0, 'just': 0, 'spray': 0, 'pray.': 0, 'nobody': 0, 'reads': 0, 'them,': 0, 'least': 0, 'of': 4, 'all': 2, 'reporters': 0, 'editors': 0, 'for': 1, 'whom': 0, \"they're\": 0, 'intended.': 0, 'worst': 0, 'case,': 0, 'badly-written': 0, 'simply': 1, 'makes': 0, 'look': 0, 'clueless': 0, 'stupid.': 0, 'example,': 0, 'while': 0, 'back': 0, 'i': 2, 'received': 0, 'containing': 0, 'following': 0, 'sentence:': 0, '\"release': 0, '6.0': 1, 'doubles': 0, 'level': 0, 'functionality': 0, 'available,': 0, 'providing': 0, 'organizations': 0, 'sizes': 0, 'with': 0, 'fast-to-deploy,': 0, 'highly': 0, 'robust,': 0, 'easy-to-use': 0, 'solution': 0, 'better': 0, 'acquire,': 0, 'retain,': 0, 'serve': 0, 'customers.\"': 0, 'translation:': 0, '\"the': 0, 'does': 0, 'stuff.\"': 0, 'why': 0, 'extra': 0, 'verbiage?': 0, 'as': 1, 'explained': 0, 'post': 0, '\"why': 0, 'marketers': 0, 'speak': 0, 'biz': 0, 'blab\",': 0, 'bs': 0, 'words': 0, 'try': 0, 'make': 0, 'something': 0, 'unimportant': 0, 'seem': 0, 'important.': 1, 'and,': 0, \"let's\": 0, 'face': 0, 'it,': 0, 'product': 0, 'probably': 0, \"isn't\": 0, 'reporter,': 0, 'my': 0, 'immediate': 0, 'response': 0, 'was': 1, \"it's\": 0, 'not': 0, 'important': 0, 'because': 0, 'it': 0, 'expended': 0, 'entire': 0, 'sentence': 0, 'saying': 0, 'absolutely': 0, 'nothing.': 0, 'assumed': 0, '(probably': 0, 'rightly)': 0, \"company's\": 0, 'marketing': 0, 'team': 0, 'bunch': 0, 'idiots.': 0}\n",
            "a 12\n",
            "to 10\n",
            "the 9\n",
            "and 9\n",
            "press 8\n",
            "release 8\n",
            "that 7\n",
            "of 5\n",
            "your 4\n",
            "in 3\n",
            "firm 3\n",
            "you 3\n",
            "releases 3\n",
            "are 3\n",
            "all 3\n",
            "i 3\n",
            "is 2\n",
            "way 2\n",
            "if 2\n",
            "can 2\n",
            "about 2\n",
            "new 2\n",
            "prospects 2\n",
            "an 2\n",
            "article 2\n",
            "more 2\n",
            "most 2\n",
            "for 2\n",
            "simply 2\n",
            "6.0 2\n",
            "as 2\n",
            "important. 2\n",
            "was 2\n",
            "quickest 1\n",
            "easiest 1\n",
            "get 1\n",
            "free 1\n",
            "publicity. 1\n",
            "well 1\n",
            "written, 1\n",
            "result 1\n",
            "multiple 1\n",
            "published 1\n",
            "articles 1\n",
            "its 1\n",
            "products. 1\n",
            "mean 1\n",
            "contacting 1\n",
            "asking 1\n",
            "sell 1\n",
            "them. 1\n",
            "talk 1\n",
            "low-hanging 1\n",
            "fruit! 1\n",
            "what's 1\n",
            "more, 1\n",
            "cost 1\n",
            "effective. 1\n",
            "results 1\n",
            "(for 1\n",
            "instance) 1\n",
            "appears 1\n",
            "recommend 1\n",
            "or 1\n",
            "product, 1\n",
            "likely 1\n",
            "drive 1\n",
            "contact 1\n",
            "than 1\n",
            "comparable 1\n",
            "paid 1\n",
            "advertisement. 1\n",
            "however, 1\n",
            "never 1\n",
            "accomplish 1\n",
            "that. 1\n",
            "just 1\n",
            "spray 1\n",
            "pray. 1\n",
            "nobody 1\n",
            "reads 1\n",
            "them, 1\n",
            "least 1\n",
            "reporters 1\n",
            "editors 1\n",
            "whom 1\n",
            "they're 1\n",
            "intended. 1\n",
            "worst 1\n",
            "case, 1\n",
            "badly-written 1\n",
            "makes 1\n",
            "look 1\n",
            "clueless 1\n",
            "stupid. 1\n",
            "example, 1\n",
            "while 1\n",
            "back 1\n",
            "received 1\n",
            "containing 1\n",
            "following 1\n",
            "sentence: 1\n",
            "\"release 1\n",
            "doubles 1\n",
            "level 1\n",
            "functionality 1\n",
            "available, 1\n",
            "providing 1\n",
            "organizations 1\n",
            "sizes 1\n",
            "with 1\n",
            "fast-to-deploy, 1\n",
            "highly 1\n",
            "robust, 1\n",
            "easy-to-use 1\n",
            "solution 1\n",
            "better 1\n",
            "acquire, 1\n",
            "retain, 1\n",
            "serve 1\n",
            "customers.\" 1\n",
            "translation: 1\n",
            "\"the 1\n",
            "does 1\n",
            "stuff.\" 1\n",
            "why 1\n",
            "extra 1\n",
            "verbiage? 1\n",
            "explained 1\n",
            "post 1\n",
            "\"why 1\n",
            "marketers 1\n",
            "speak 1\n",
            "biz 1\n",
            "blab\", 1\n",
            "bs 1\n",
            "words 1\n",
            "try 1\n",
            "make 1\n",
            "something 1\n",
            "unimportant 1\n",
            "seem 1\n",
            "and, 1\n",
            "let's 1\n",
            "face 1\n",
            "it, 1\n",
            "product 1\n",
            "probably 1\n",
            "isn't 1\n",
            "reporter, 1\n",
            "my 1\n",
            "immediate 1\n",
            "response 1\n",
            "it's 1\n",
            "not 1\n",
            "important 1\n",
            "because 1\n",
            "it 1\n",
            "expended 1\n",
            "entire 1\n",
            "sentence 1\n",
            "saying 1\n",
            "absolutely 1\n",
            "nothing. 1\n",
            "assumed 1\n",
            "(probably 1\n",
            "rightly) 1\n",
            "company's 1\n",
            "marketing 1\n",
            "team 1\n",
            "bunch 1\n",
            "idiots. 1\n"
          ]
        }
      ]
    },
    {
      "cell_type": "markdown",
      "source": [
        "# Vector representation of python\n",
        "- Vector를 파이썬으로 표시하는 다양한 방법 존재\n",
        "- 최선의 방법은 없음\n",
        "- 값의 변경 유무, 속성값 유무에 따라 선택할 수 있음\n",
        "- 본 수업에서는 기본적으로 list로 vector연산 실시"
      ],
      "metadata": {
        "id": "-uJWJDPqEHyp"
      }
    },
    {
      "cell_type": "code",
      "source": [
        "u = [2, 2]\n",
        "v = [2, 3]\n",
        "z = [3, 5]\n",
        "\n",
        "result1 = []\n",
        "for i in range(len(u)):\n",
        "  result1.append(u[i]+v[i]+z[i])\n",
        "print(result1) ### 이런 코드 쓰면 안됨, 파이썬 답지 못하고 안 아름다움\n",
        "\n",
        "\n",
        "result = [t for t in zip(u, v, z)]\n",
        "print (result)\n",
        "\n",
        "\n",
        "u = [1, 2, 3]\n",
        "v = [4, 4, 4]\n",
        "alpha = 2\n",
        "result = [2*sum(t) for t in zip(u, v)]# 추후 numpy로 간단하게 표현 가능\n",
        "print(result)"
      ],
      "metadata": {
        "colab": {
          "base_uri": "https://localhost:8080/"
        },
        "id": "-2nQua2JEBYv",
        "outputId": "40969e8b-85a1-41da-ac35-ad58932605a2"
      },
      "execution_count": null,
      "outputs": [
        {
          "output_type": "stream",
          "name": "stdout",
          "text": [
            "[7, 10]\n",
            "[(2, 2, 3), (2, 3, 5)]\n",
            "[10, 12, 14]\n"
          ]
        }
      ]
    },
    {
      "cell_type": "markdown",
      "source": [
        "# Matrix representation of python\n",
        "- Matrix 역시 Python으로 표시하는 다양한 방법이 존재\n",
        "- 특히 dict로 표현할 때는 무궁무진한 방법이 있음\n",
        "- 본 수업에서는 기본적으로 two-dimensional list형태로 표현함\n",
        "- [[1번째 row],[2번째 row],[3번째 row]]"
      ],
      "metadata": {
        "id": "FRPnQjF4FfvF"
      }
    },
    {
      "cell_type": "code",
      "source": [
        "matrix_a = [[3, 6], [4, 5]]\n",
        "matrix_b = [[5, 8], [6, 7]]\n",
        "result = [[sum(row) for row in zip(*t)]\n",
        "          for t in zip(matrix_a, matrix_b)]\n",
        "\n",
        "print(result)\n",
        "\n",
        "\n",
        "matrix_a = [[3, 6], [4, 5]]\n",
        "alpha = 4\n",
        "result = [[alpha * element for element in t] for t in matrix_a]\n",
        "\n",
        "print(result)\n",
        "\n",
        "\n",
        "matrix_a = [[1, 2, 3], [4, 5, 6]]\n",
        "result = [[element for element in t] for t in zip(*matrix_a)]\n",
        "\n",
        "[t for t in zip(*matrix_a)]\n",
        "print(result)\n",
        "\n",
        "\n",
        "matrix_a = [[1, 1, 2], [2, 1, 1]]\n",
        "matrix_b = [[1, 1], [2, 1], [1, 3]]\n",
        "result = [[sum(a * b for a, b in zip(row_a, column_b))\n",
        "          for column_b in zip(*matrix_b)] for row_a in matrix_a]\n",
        "print(result)"
      ],
      "metadata": {
        "id": "V0OuPuqvEEBO"
      },
      "execution_count": null,
      "outputs": []
    }
  ]
}