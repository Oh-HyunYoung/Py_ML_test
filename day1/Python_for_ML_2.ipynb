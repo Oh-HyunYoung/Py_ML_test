{
  "nbformat": 4,
  "nbformat_minor": 0,
  "metadata": {
    "colab": {
      "provenance": [],
      "collapsed_sections": [],
      "authorship_tag": "ABX9TyO4NTkWytfFwuEpW50Kj2ll",
      "include_colab_link": true
    },
    "kernelspec": {
      "name": "python3",
      "display_name": "Python 3"
    },
    "language_info": {
      "name": "python"
    }
  },
  "cells": [
    {
      "cell_type": "markdown",
      "metadata": {
        "id": "view-in-github",
        "colab_type": "text"
      },
      "source": [
        "<a href=\"https://colab.research.google.com/github/Oh-HyunYoung/Py_ML_test/blob/main/day1/Python_for_ML_2.ipynb\" target=\"_parent\"><img src=\"https://colab.research.google.com/assets/colab-badge.svg\" alt=\"Open In Colab\"/></a>"
      ]
    },
    {
      "cell_type": "markdown",
      "source": [
        "## Day+2 \n",
        "머신러닝을 위한 파이썬 - boostcourse"
      ],
      "metadata": {
        "id": "6n-d27iEQv9o"
      }
    },
    {
      "cell_type": "markdown",
      "source": [
        "#vector_size_check \n",
        "- vector 간 덧셈 또는 뺄셈 연산을 할 때, 연산이 가능한 사이즈인지를 확인하여 가능 여부를 True 또는 False로 반환함"
      ],
      "metadata": {
        "id": "w6UHaMmIWAd7"
      }
    },
    {
      "cell_type": "code",
      "execution_count": null,
      "metadata": {
        "colab": {
          "base_uri": "https://localhost:8080/"
        },
        "id": "WT3Ga_t1QFaa",
        "outputId": "88b09cee-5b22-48ab-9878-9a8901c5fea7"
      },
      "outputs": [
        {
          "output_type": "execute_result",
          "data": {
            "text/plain": [
              "True"
            ]
          },
          "metadata": {},
          "execution_count": 5
        }
      ],
      "source": [
        "def vector_size_check(*vector_variables):\n",
        "    return all(len(vector_variables[0]) == x\n",
        "    for x in [len(vector) for vector in vector_variables [1:]])\n",
        "\n",
        "vector_size_check([1,2,3], [2,3,4], [5,6,7])"
      ]
    },
    {
      "cell_type": "markdown",
      "source": [
        "# Vector_addition\n",
        "- vector간 덧셈을 실행하여 결과를 반환함, 단 입력되는 vector의 갯수와 크기는 일정하지 않음"
      ],
      "metadata": {
        "id": "xLa1GURaWMqg"
      }
    },
    {
      "cell_type": "code",
      "source": [
        "def vector_addition(*vector_variables):\n",
        "  if vector_size_check(*vector_variables) == False:\n",
        "    raise ArithmeticError\n",
        "  return [sum(elements) for elements in zip(*vector_variables)] # zip 같은 위치에 있는 것끼리 뽑힘\n",
        "\n",
        "print(vector_addition([1,3], [2,4], [6,7])) # [(1+2+6),(3,4,7)]\n",
        "print(vector_addition([1,5], [10,4], [4,7]))\n",
        "# print(vector_addition([1,3,4], [4], [6,7])) # Expected value: ArithmeticError"
      ],
      "metadata": {
        "id": "29Nw_8WkTNb4",
        "colab": {
          "base_uri": "https://localhost:8080/"
        },
        "outputId": "7b58bb22-c554-4e3e-9399-085a2d9589c4"
      },
      "execution_count": null,
      "outputs": [
        {
          "output_type": "stream",
          "name": "stdout",
          "text": [
            "[9, 14]\n",
            "[15, 16]\n"
          ]
        }
      ]
    },
    {
      "cell_type": "markdown",
      "source": [
        "# Vector_subtraction\n",
        "- vector간 뺄셈을 실행하여 결과를 반환함, 단 입력되는 vector의 갯수와 크기는 일정하지 않음"
      ],
      "metadata": {
        "id": "5rCt4TkPmifC"
      }
    },
    {
      "cell_type": "code",
      "source": [
        "def vector_subtraction(*vector_variables):\n",
        "    if vector_size_check(*vector_variables) == False:\n",
        "        raise ArithmeticError\n",
        "    return [elements[0]*2-sum(elements)\n",
        "          for elements in zip(*vector_variables)]\n",
        "\n",
        "print(vector_subtraction([1,3],[2,4]))\n",
        "print(vector_subtraction([1,5],[10,4],[4,7]))"
      ],
      "metadata": {
        "id": "FVdfW757TaBj",
        "colab": {
          "base_uri": "https://localhost:8080/"
        },
        "outputId": "85f2151e-93a0-4a45-dd32-b5c2023045a5"
      },
      "execution_count": null,
      "outputs": [
        {
          "output_type": "stream",
          "name": "stdout",
          "text": [
            "[-1, -1]\n",
            "[-13, -6]\n"
          ]
        }
      ]
    },
    {
      "cell_type": "markdown",
      "source": [
        "# scalar_vector_product\n",
        "- 하나의 scalar 값을 vector에 곱함, 단 입력되는 vector의 크기는 일정하지 않음"
      ],
      "metadata": {
        "id": "P1BQNg5-muVq"
      }
    },
    {
      "cell_type": "code",
      "source": [
        "def scalar_vector_product(alpha, vector_variable):\n",
        "    return [alpha*element for element in vector_variable]\n",
        "\n",
        "print(scalar_vector_product(5,[1,2,3]))\n",
        "print(scalar_vector_product(3,[2,2]))"
      ],
      "metadata": {
        "id": "aA3zW8BlTYpt"
      },
      "execution_count": null,
      "outputs": []
    },
    {
      "cell_type": "markdown",
      "source": [
        "# matrix_size_check\n",
        "- matrix 간 덧셈 또는 뺄셈 연산을 할 때, 연산이 가능한 사이즈인지를 확인하여 가능 여부를 True 또는 False로 반환함"
      ],
      "metadata": {
        "id": "j2l-njgdm5pX"
      }
    },
    {
      "cell_type": "code",
      "source": [
        "def matrix_size_check(*matrix_variables):\n",
        "    return all([len(set(matrix[0] for matrix in matrix_variables)) == 1]) and all([len(matrix_variables[0]) == len(matrix) for matrix in matrix_variable])\n",
        "# n번째 있는 값과 같은지. column과 raw가 같으면 true가 나옴\n",
        "\n",
        "# 결과\n",
        "matrix_x = [[2, 2], [2, 2], [2, 2]]\n",
        "matrix_y = [[2, 5], [2, 1]]\n",
        "matrix_z = [[2, 4], [5, 3]]\n",
        "matrix_w = [[2, 5], [1, 1], [2, 2]]"
      ],
      "metadata": {
        "id": "4_9I5LFsTWsl"
      },
      "execution_count": null,
      "outputs": []
    },
    {
      "cell_type": "markdown",
      "source": [
        "# is_matrix_equal\n",
        "- 비교가 되는 n개의 matrix가 서로 동치인지 확인하여 True 또는 Fasle를 반환함"
      ],
      "metadata": {
        "id": "bVznhpO1nFvG"
      }
    },
    {
      "cell_type": "code",
      "source": [
        "def is_matrix_equal(*matrix_variables):\n",
        "    print([matrix for matrix in zip(*matrix_variables)])\n",
        "    return all([all([len(set(row)) == 1 for row in zip(*matrix)])\n",
        "    for matrix in zip(*matrix_variables)])\n",
        "\n",
        "# 실행결과\n",
        "matrix_x = [[2, 2], [2, 2]]\n",
        "matrix_y = [[2, 5], [2, 1]]\n",
        "\n",
        "print (is_matrix_equal(matrix_x, matrix_y, matrix_y, matrix_y)) # Expected value: False\n",
        "print (is_matrix_equal(matrix_x, matrix_x)) # Expected value: True"
      ],
      "metadata": {
        "id": "csQHo-vuTVvf",
        "colab": {
          "base_uri": "https://localhost:8080/"
        },
        "outputId": "11509a6c-bc2c-4b70-e09d-841a0e3d0e5d"
      },
      "execution_count": null,
      "outputs": [
        {
          "output_type": "stream",
          "name": "stdout",
          "text": [
            "[([2, 2], [2, 5], [2, 5], [2, 5]), ([2, 2], [2, 1], [2, 1], [2, 1])]\n",
            "False\n",
            "[([2, 2], [2, 2]), ([2, 2], [2, 2])]\n",
            "True\n"
          ]
        }
      ]
    },
    {
      "cell_type": "markdown",
      "source": [
        "# matrix_addition\n",
        "- matrix 간 덧셈을 실행하여 결과를 반환함, 단 입력되는 matrix의 갯수와 크기는 일정하지 않음"
      ],
      "metadata": {
        "id": "eQxqdb9gnR0b"
      }
    },
    {
      "cell_type": "code",
      "source": [
        "def matrix_addition(*matrix_variables):\n",
        "#    if matrix_size_check(*matrix_variables) == False: ## 에러 발생 제거\n",
        "#        raise ArithmeticError\n",
        "    return [[sum(row) for row in zip(*matrix)] # [] 딕셔너리에 있으면 같은 raw끼리 뽑힘 \n",
        "            for matrix in zip(*matrix_variables)] # matrix에 tuple형태로 들어감\n",
        "\n",
        "# 실행결과\n",
        "matrix_x = [[2, 2], [2, 2]]\n",
        "matrix_y = [[2, 5], [2, 1]]\n",
        "matrix_z = [[2, 4], [5, 3]]\n",
        "\n",
        "print (matrix_addition(matrix_x, matrix_y)) # Expected value: [[4, 7], [4, 3]]\n",
        "print (matrix_addition(matrix_x, matrix_y, matrix_z)) # Expected value: [[6, 11], [9, 6]]"
      ],
      "metadata": {
        "id": "e0kSWX1FTUsv",
        "colab": {
          "base_uri": "https://localhost:8080/"
        },
        "outputId": "458cb047-3679-4984-d420-ee20abd72eb0"
      },
      "execution_count": null,
      "outputs": [
        {
          "output_type": "stream",
          "name": "stdout",
          "text": [
            "[[4, 7], [4, 3]]\n",
            "[[6, 11], [9, 6]]\n"
          ]
        }
      ]
    },
    {
      "cell_type": "markdown",
      "source": [
        "# matrix_subtraction\n",
        "- matrix 간 뺄셈을 실행하여 결과를 반환함, 단 입력되는 matrix의 갯수와 크기는 일정하지 않음"
      ],
      "metadata": {
        "id": "_XEmkBL6nczS"
      }
    },
    {
      "cell_type": "code",
      "source": [
        "def matrix_subtraction(*matrix_variables):\n",
        "    if matrix_size_check(*matrix_variables) == False:\n",
        "        raise ArithmeticError\n",
        "    return [[row[0]*2 - sum(row)\n",
        "    for row in zip(*matrix)]\n",
        "    for matrix in zip(matrix_variables)]"
      ],
      "metadata": {
        "id": "H6htfsVrTTvX"
      },
      "execution_count": null,
      "outputs": []
    },
    {
      "cell_type": "markdown",
      "source": [
        "# matrix_transpose\n",
        "- matrix 간 역행렬을 구하여 결과를 반환함, 단 입력되는 matrix의 갯수와 크기는 일정하지 않음"
      ],
      "metadata": {
        "id": "ymixKKLBnii-"
      }
    },
    {
      "cell_type": "code",
      "source": [
        "def matrix_transpose(matrix_variable):\n",
        "    return [[element for element in row] for row in zip(*matrix_variable)]\n",
        "\n",
        "matrix_w = [[2,5],[1,1],[2,2]]\n",
        "print(matrix_transpose(matrix_w))"
      ],
      "metadata": {
        "id": "tmpzNj6NTSg5",
        "colab": {
          "base_uri": "https://localhost:8080/"
        },
        "outputId": "1ba62472-1ec4-4435-8b0f-200c11a09c03"
      },
      "execution_count": null,
      "outputs": [
        {
          "output_type": "stream",
          "name": "stdout",
          "text": [
            "[[2, 1, 2], [5, 1, 2]]\n"
          ]
        }
      ]
    },
    {
      "cell_type": "markdown",
      "source": [
        "# scalar_matrix_product\n",
        "- 하나의 scalar 값을 matrix에 곱함, 단 입력되는 matrix의 크기는 일정하지 않음"
      ],
      "metadata": {
        "id": "r8jVW9w-npEQ"
      }
    },
    {
      "cell_type": "code",
      "source": [
        "def scalar_matrix_product(alpha, matrix_variable):\n",
        "    return [scalar_vector_product(alpha, row) for row in matrix_variable]\n",
        "\n",
        "matrix_x = [[2, 2], [2, 2], [2, 2]]\n",
        "matrix_y = [[2, 5], [2, 1]]\n",
        "matrix_z = [[2, 4], [5, 3]]\n",
        "matrix_w = [[2, 5], [1, 1], [2, 2]]\n",
        "\n",
        "print(scalar_matrix_product(3, matrix_x)) #Expected value: [[6, 6], [6, 6], [6, 6]]\n",
        "print(scalar_matrix_product(2, matrix_y)) #Expected value: [[4, 10], [4, 2]]\n",
        "print(scalar_matrix_product(4, matrix_z)) #Expected value: [[8, 16], [20, 12]]\n",
        "print(scalar_matrix_product(3, matrix_w)) #Expected value: [[6, 15], [3, 3], [6, 6]]"
      ],
      "metadata": {
        "id": "W3vo-dxqTRE7",
        "colab": {
          "base_uri": "https://localhost:8080/"
        },
        "outputId": "1d3b519d-b628-48ab-e6a6-4ea4a99dc255"
      },
      "execution_count": null,
      "outputs": [
        {
          "output_type": "stream",
          "name": "stdout",
          "text": [
            "[[6, 6], [6, 6], [6, 6]]\n",
            "[[4, 10], [4, 2]]\n",
            "[[8, 16], [20, 12]]\n",
            "[[6, 15], [3, 3], [6, 6]]\n"
          ]
        }
      ]
    },
    {
      "cell_type": "markdown",
      "source": [
        "# is_product_availability_matrix\n",
        "- 두 개의 matrix가 입력되었을 경우, 두 matrix의 곱셈 연산의 가능 여부를 True 또는 False로 반환함"
      ],
      "metadata": {
        "id": "BKJ_-MRvn0u-"
      }
    },
    {
      "cell_type": "code",
      "source": [
        "def is_product_availability_matrix(matrix_a, matrix_b):\n",
        "    return len([column_vector for column_vector in zip(*matrix_a)]) == len(matrix_b)\n",
        "\n",
        "# 실행결과\n",
        "matrix_x= [[2, 5], [1, 1]]\n",
        "matrix_y = [[1, 1, 2], [2, 1, 1]]\n",
        "matrix_z = [[2, 4], [5, 3], [1, 3]]\n",
        "\n",
        "print(is_product_availability_matrix(matrix_y, matrix_z)) # Expected value: True\n",
        "print(is_product_availability_matrix(matrix_z, matrix_x)) # Expected value: True\n",
        "print(is_product_availability_matrix(matrix_z, matrix_w)) # Expected value: False //matrix_w가없습니다\n",
        "print(is_product_availability_matrix(matrix_x, matrix_x)) # Expected value: True"
      ],
      "metadata": {
        "id": "YqOvJrLFTPrC",
        "colab": {
          "base_uri": "https://localhost:8080/"
        },
        "outputId": "a5bc99b4-db5a-4cc7-e1a0-a47156b7bade"
      },
      "execution_count": null,
      "outputs": [
        {
          "output_type": "stream",
          "name": "stdout",
          "text": [
            "True\n",
            "True\n",
            "False\n",
            "True\n"
          ]
        }
      ]
    },
    {
      "cell_type": "markdown",
      "source": [
        "# matrix_product\n",
        "곱셈 연산이 가능한 두 개의 matrix의 곱셈을 실행하여 반환함"
      ],
      "metadata": {
        "id": "FZ4DkNCAoCYY"
      }
    },
    {
      "cell_type": "code",
      "source": [
        "def matrix_product(matrix_a, matrix_b):\n",
        "#    if is_product_availability_matrix(matrix_a, matrix_b) == False:\n",
        "#        raise ArithmeticError\n",
        "    return [[sum(a*b for a, b in zip(row_a, column_b))\n",
        "    for column_b in zip(*matrix_b)]\n",
        "    for row_a in matrix_a]\n",
        "\n",
        "\n",
        "# 실행결과\n",
        "matrix_x= [[2, 5], [1, 1]]\n",
        "matrix_y = [[1, 1, 2], [2, 1, 1]]\n",
        "matrix_z = [[2, 4], [5, 3], [1, 3]]\n",
        "\n",
        "print(matrix_product(matrix_y, matrix_z)) # Expected value: [[9, 13], [10, 14]]\n",
        "print(matrix_product(matrix_z, matrix_x)) # Expected value: [[8, 14], [13, 28], [5, 8]]\n",
        "print(matrix_product(matrix_x, matrix_x)) # Expected value: [[9, 15], [3, 6]]\n",
        "print(matrix_product(matrix_z, matrix_w)) # Expected value: False"
      ],
      "metadata": {
        "id": "rANr92KhTOdH",
        "colab": {
          "base_uri": "https://localhost:8080/"
        },
        "outputId": "e380c98e-8262-4060-a3a4-0dffe26c0dd1"
      },
      "execution_count": null,
      "outputs": [
        {
          "output_type": "stream",
          "name": "stdout",
          "text": [
            "[[9, 13], [10, 14]]\n",
            "[[8, 14], [13, 28], [5, 8]]\n",
            "[[9, 15], [3, 6]]\n",
            "[[8, 14], [13, 28], [5, 8]]\n"
          ]
        }
      ]
    }
  ]
}